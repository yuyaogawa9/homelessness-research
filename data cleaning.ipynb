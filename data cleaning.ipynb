{
 "cells": [
  {
   "cell_type": "code",
   "execution_count": 1,
   "id": "84b77551",
   "metadata": {},
   "outputs": [],
   "source": [
    "import pandas as pd\n",
    "import numpy as np"
   ]
  },
  {
   "cell_type": "code",
   "execution_count": 30,
   "id": "e28fc441",
   "metadata": {},
   "outputs": [],
   "source": [
    "gini = pd.read_excel(\"gini_index.xlsx\", sheet_name = \"Data\")"
   ]
  },
  {
   "cell_type": "code",
   "execution_count": 13,
   "id": "6988a8b4",
   "metadata": {},
   "outputs": [],
   "source": [
    "gini = gini.dropna().reset_index(drop = True)"
   ]
  },
  {
   "cell_type": "code",
   "execution_count": 14,
   "id": "9a9e9520",
   "metadata": {},
   "outputs": [],
   "source": [
    "gini.to_excel(\"gini_index.xlsx\")  "
   ]
  },
  {
   "cell_type": "code",
   "execution_count": null,
   "id": "8cd78eb0",
   "metadata": {},
   "outputs": [],
   "source": [
    "#gini cleaned"
   ]
  },
  {
   "cell_type": "code",
   "execution_count": null,
   "id": "946ed37c",
   "metadata": {},
   "outputs": [],
   "source": [
    "#combine the state column from gini and the median state housing price "
   ]
  },
  {
   "cell_type": "code",
   "execution_count": 31,
   "id": "e9d8b615",
   "metadata": {},
   "outputs": [],
   "source": [
    "gini = pd.read_excel(\"gini_index.xlsx\")"
   ]
  },
  {
   "cell_type": "code",
   "execution_count": 24,
   "id": "6229316e",
   "metadata": {},
   "outputs": [],
   "source": [
    "house = pd.read_excel(\"housing_cost.xlsx\", sheet_name = \"median_housing\")"
   ]
  },
  {
   "cell_type": "code",
   "execution_count": 60,
   "id": "e805daed",
   "metadata": {},
   "outputs": [],
   "source": [
    "#take the value we need from the housing data and reindex them\n",
    "condition = house[\"Label\"] ==\"Renter-occupied housing units\"\n",
    "median = house[condition].reset_index(drop = True).drop(\"Label\", axis = 1)"
   ]
  },
  {
   "cell_type": "code",
   "execution_count": null,
   "id": "692b3cbe",
   "metadata": {},
   "outputs": [],
   "source": []
  },
  {
   "cell_type": "code",
   "execution_count": 63,
   "id": "876da3bf",
   "metadata": {},
   "outputs": [
    {
     "data": {
      "text/html": [
       "<div>\n",
       "<style scoped>\n",
       "    .dataframe tbody tr th:only-of-type {\n",
       "        vertical-align: middle;\n",
       "    }\n",
       "\n",
       "    .dataframe tbody tr th {\n",
       "        vertical-align: top;\n",
       "    }\n",
       "\n",
       "    .dataframe thead th {\n",
       "        text-align: right;\n",
       "    }\n",
       "</style>\n",
       "<table border=\"1\" class=\"dataframe\">\n",
       "  <thead>\n",
       "    <tr style=\"text-align: right;\">\n",
       "      <th></th>\n",
       "      <th>Label</th>\n",
       "    </tr>\n",
       "  </thead>\n",
       "  <tbody>\n",
       "    <tr>\n",
       "      <th>0</th>\n",
       "      <td>Alabama</td>\n",
       "    </tr>\n",
       "    <tr>\n",
       "      <th>1</th>\n",
       "      <td>Alaska</td>\n",
       "    </tr>\n",
       "    <tr>\n",
       "      <th>2</th>\n",
       "      <td>Arizona</td>\n",
       "    </tr>\n",
       "    <tr>\n",
       "      <th>3</th>\n",
       "      <td>Arkansas</td>\n",
       "    </tr>\n",
       "    <tr>\n",
       "      <th>4</th>\n",
       "      <td>California</td>\n",
       "    </tr>\n",
       "  </tbody>\n",
       "</table>\n",
       "</div>"
      ],
      "text/plain": [
       "        Label\n",
       "0     Alabama\n",
       "1      Alaska\n",
       "2     Arizona\n",
       "3    Arkansas\n",
       "4  California"
      ]
     },
     "execution_count": 63,
     "metadata": {},
     "output_type": "execute_result"
    }
   ],
   "source": [
    "#now, take the state information from gini data\n",
    "median_data = pd.DataFrame(gini[\"Label\"])\n",
    "median_data.head()"
   ]
  },
  {
   "cell_type": "code",
   "execution_count": 64,
   "id": "cbe3a98d",
   "metadata": {},
   "outputs": [],
   "source": [
    "#now combine the housing value to the state info as a new column and finish the process\n",
    "median_data[\"median_housing_price\"] = median"
   ]
  },
  {
   "cell_type": "code",
   "execution_count": 67,
   "id": "79fcfbb6",
   "metadata": {},
   "outputs": [
    {
     "data": {
      "text/html": [
       "<div>\n",
       "<style scoped>\n",
       "    .dataframe tbody tr th:only-of-type {\n",
       "        vertical-align: middle;\n",
       "    }\n",
       "\n",
       "    .dataframe tbody tr th {\n",
       "        vertical-align: top;\n",
       "    }\n",
       "\n",
       "    .dataframe thead th {\n",
       "        text-align: right;\n",
       "    }\n",
       "</style>\n",
       "<table border=\"1\" class=\"dataframe\">\n",
       "  <thead>\n",
       "    <tr style=\"text-align: right;\">\n",
       "      <th></th>\n",
       "      <th>Label</th>\n",
       "      <th>median_housing_price</th>\n",
       "    </tr>\n",
       "  </thead>\n",
       "  <tbody>\n",
       "    <tr>\n",
       "      <th>0</th>\n",
       "      <td>Alabama</td>\n",
       "      <td>861</td>\n",
       "    </tr>\n",
       "    <tr>\n",
       "      <th>1</th>\n",
       "      <td>Alaska</td>\n",
       "      <td>1,259</td>\n",
       "    </tr>\n",
       "    <tr>\n",
       "      <th>2</th>\n",
       "      <td>Arizona</td>\n",
       "      <td>1,253</td>\n",
       "    </tr>\n",
       "    <tr>\n",
       "      <th>3</th>\n",
       "      <td>Arkansas</td>\n",
       "      <td>820</td>\n",
       "    </tr>\n",
       "    <tr>\n",
       "      <th>4</th>\n",
       "      <td>California</td>\n",
       "      <td>1,750</td>\n",
       "    </tr>\n",
       "  </tbody>\n",
       "</table>\n",
       "</div>"
      ],
      "text/plain": [
       "        Label median_housing_price\n",
       "0     Alabama                  861\n",
       "1      Alaska                1,259\n",
       "2     Arizona                1,253\n",
       "3    Arkansas                  820\n",
       "4  California                1,750"
      ]
     },
     "execution_count": 67,
     "metadata": {},
     "output_type": "execute_result"
    }
   ],
   "source": [
    "median_data.head()"
   ]
  },
  {
   "cell_type": "code",
   "execution_count": 68,
   "id": "02f192fa",
   "metadata": {},
   "outputs": [],
   "source": [
    "median_data.to_excel(\"median_housing.xlsx\")  "
   ]
  },
  {
   "cell_type": "code",
   "execution_count": null,
   "id": "c53f8a39",
   "metadata": {},
   "outputs": [],
   "source": []
  },
  {
   "cell_type": "code",
   "execution_count": 69,
   "id": "3063c5c7",
   "metadata": {},
   "outputs": [],
   "source": [
    "#now clean the income data"
   ]
  },
  {
   "cell_type": "code",
   "execution_count": 70,
   "id": "eca5d68a",
   "metadata": {
    "scrolled": true
   },
   "outputs": [
    {
     "data": {
      "text/html": [
       "<div>\n",
       "<style scoped>\n",
       "    .dataframe tbody tr th:only-of-type {\n",
       "        vertical-align: middle;\n",
       "    }\n",
       "\n",
       "    .dataframe tbody tr th {\n",
       "        vertical-align: top;\n",
       "    }\n",
       "\n",
       "    .dataframe thead th {\n",
       "        text-align: right;\n",
       "    }\n",
       "</style>\n",
       "<table border=\"1\" class=\"dataframe\">\n",
       "  <thead>\n",
       "    <tr style=\"text-align: right;\">\n",
       "      <th></th>\n",
       "      <th>Label</th>\n",
       "      <th>Median income (dollars)</th>\n",
       "      <th>Mean income (dollars)</th>\n",
       "    </tr>\n",
       "  </thead>\n",
       "  <tbody>\n",
       "    <tr>\n",
       "      <th>0</th>\n",
       "      <td>Alabama</td>\n",
       "      <td>NaN</td>\n",
       "      <td>NaN</td>\n",
       "    </tr>\n",
       "    <tr>\n",
       "      <th>1</th>\n",
       "      <td>Households</td>\n",
       "      <td>53,913</td>\n",
       "      <td>75,923</td>\n",
       "    </tr>\n",
       "    <tr>\n",
       "      <th>2</th>\n",
       "      <td>Estimate</td>\n",
       "      <td>NaN</td>\n",
       "      <td>NaN</td>\n",
       "    </tr>\n",
       "    <tr>\n",
       "      <th>3</th>\n",
       "      <td>Families</td>\n",
       "      <td>71,006</td>\n",
       "      <td>92,591</td>\n",
       "    </tr>\n",
       "    <tr>\n",
       "      <th>4</th>\n",
       "      <td>Estimate</td>\n",
       "      <td>NaN</td>\n",
       "      <td>NaN</td>\n",
       "    </tr>\n",
       "  </tbody>\n",
       "</table>\n",
       "</div>"
      ],
      "text/plain": [
       "        Label Median income (dollars) Mean income (dollars)\n",
       "0     Alabama                     NaN                   NaN\n",
       "1  Households                  53,913                75,923\n",
       "2    Estimate                     NaN                   NaN\n",
       "3    Families                  71,006                92,591\n",
       "4    Estimate                     NaN                   NaN"
      ]
     },
     "execution_count": 70,
     "metadata": {},
     "output_type": "execute_result"
    }
   ],
   "source": [
    "income = pd.read_excel(\"mean_median_income.xlsx\", sheet_name = \"Data\")\n",
    "income.head()"
   ]
  },
  {
   "cell_type": "code",
   "execution_count": 79,
   "id": "c33d0a81",
   "metadata": {},
   "outputs": [],
   "source": [
    "#take only the households value\n",
    "condition = income[\"Label\"] == \"Households\"\n",
    "income = income[condition].reset_index(drop = True).drop(\"Label\", axis = 1)"
   ]
  },
  {
   "cell_type": "code",
   "execution_count": 81,
   "id": "d1a42c78",
   "metadata": {},
   "outputs": [],
   "source": [
    "#combine the state name and the income data\n",
    "income[\"state\"] = gini[\"Label\"]"
   ]
  },
  {
   "cell_type": "code",
   "execution_count": 86,
   "id": "5ef900e6",
   "metadata": {},
   "outputs": [
    {
     "data": {
      "text/html": [
       "<div>\n",
       "<style scoped>\n",
       "    .dataframe tbody tr th:only-of-type {\n",
       "        vertical-align: middle;\n",
       "    }\n",
       "\n",
       "    .dataframe tbody tr th {\n",
       "        vertical-align: top;\n",
       "    }\n",
       "\n",
       "    .dataframe thead th {\n",
       "        text-align: right;\n",
       "    }\n",
       "</style>\n",
       "<table border=\"1\" class=\"dataframe\">\n",
       "  <thead>\n",
       "    <tr style=\"text-align: right;\">\n",
       "      <th></th>\n",
       "      <th>state</th>\n",
       "      <th>Median income (dollars)</th>\n",
       "      <th>Mean income (dollars)</th>\n",
       "    </tr>\n",
       "  </thead>\n",
       "  <tbody>\n",
       "    <tr>\n",
       "      <th>0</th>\n",
       "      <td>Alabama</td>\n",
       "      <td>53,913</td>\n",
       "      <td>75,923</td>\n",
       "    </tr>\n",
       "    <tr>\n",
       "      <th>1</th>\n",
       "      <td>Alaska</td>\n",
       "      <td>77,845</td>\n",
       "      <td>100,519</td>\n",
       "    </tr>\n",
       "    <tr>\n",
       "      <th>2</th>\n",
       "      <td>Arizona</td>\n",
       "      <td>69,056</td>\n",
       "      <td>93,177</td>\n",
       "    </tr>\n",
       "    <tr>\n",
       "      <th>3</th>\n",
       "      <td>Arkansas</td>\n",
       "      <td>52,528</td>\n",
       "      <td>73,126</td>\n",
       "    </tr>\n",
       "    <tr>\n",
       "      <th>4</th>\n",
       "      <td>California</td>\n",
       "      <td>84,907</td>\n",
       "      <td>120,953</td>\n",
       "    </tr>\n",
       "  </tbody>\n",
       "</table>\n",
       "</div>"
      ],
      "text/plain": [
       "        state Median income (dollars) Mean income (dollars)\n",
       "0     Alabama                  53,913                75,923\n",
       "1      Alaska                  77,845               100,519\n",
       "2     Arizona                  69,056                93,177\n",
       "3    Arkansas                  52,528                73,126\n",
       "4  California                  84,907               120,953"
      ]
     },
     "execution_count": 86,
     "metadata": {},
     "output_type": "execute_result"
    }
   ],
   "source": [
    "#reindex the data so that state comes first in the column\n",
    "income = income.reindex(labels = [\"state\", \"Median income (dollars)\", \"Mean income (dollars)\"], axis = 1)\n",
    "income.head()"
   ]
  },
  {
   "cell_type": "code",
   "execution_count": 87,
   "id": "98f26582",
   "metadata": {},
   "outputs": [],
   "source": [
    "#export to excel\n",
    "income.to_excel(\"income_data.xlsx\")  "
   ]
  },
  {
   "cell_type": "code",
   "execution_count": null,
   "id": "a6000bf0",
   "metadata": {},
   "outputs": [],
   "source": []
  },
  {
   "cell_type": "code",
   "execution_count": 90,
   "id": "0fe5227d",
   "metadata": {},
   "outputs": [
    {
     "data": {
      "text/html": [
       "<div>\n",
       "<style scoped>\n",
       "    .dataframe tbody tr th:only-of-type {\n",
       "        vertical-align: middle;\n",
       "    }\n",
       "\n",
       "    .dataframe tbody tr th {\n",
       "        vertical-align: top;\n",
       "    }\n",
       "\n",
       "    .dataframe thead th {\n",
       "        text-align: right;\n",
       "    }\n",
       "</style>\n",
       "<table border=\"1\" class=\"dataframe\">\n",
       "  <thead>\n",
       "    <tr style=\"text-align: right;\">\n",
       "      <th></th>\n",
       "      <th>Label</th>\n",
       "      <th>POVERTY STATUS IN THE PAST 12 MONTHS</th>\n",
       "      <th>Below poverty level</th>\n",
       "      <th>At or above the poverty level</th>\n",
       "      <th>Less than high school graduate</th>\n",
       "      <th>High school graduate (includes equivalency)</th>\n",
       "      <th>Some college or associate's degree</th>\n",
       "      <th>Bachelor's degree or higher</th>\n",
       "    </tr>\n",
       "  </thead>\n",
       "  <tbody>\n",
       "    <tr>\n",
       "      <th>0</th>\n",
       "      <td>Alabama</td>\n",
       "      <td>NaN</td>\n",
       "      <td>NaN</td>\n",
       "      <td>NaN</td>\n",
       "      <td>NaN</td>\n",
       "      <td>NaN</td>\n",
       "      <td>NaN</td>\n",
       "      <td>NaN</td>\n",
       "    </tr>\n",
       "    <tr>\n",
       "      <th>1</th>\n",
       "      <td>Total</td>\n",
       "      <td>NaN</td>\n",
       "      <td>426,232</td>\n",
       "      <td>2,403,734</td>\n",
       "      <td>291,364</td>\n",
       "      <td>762,320</td>\n",
       "      <td>780,194</td>\n",
       "      <td>731,521</td>\n",
       "    </tr>\n",
       "    <tr>\n",
       "      <th>2</th>\n",
       "      <td>Estimate</td>\n",
       "      <td>NaN</td>\n",
       "      <td>NaN</td>\n",
       "      <td>NaN</td>\n",
       "      <td>NaN</td>\n",
       "      <td>NaN</td>\n",
       "      <td>NaN</td>\n",
       "      <td>NaN</td>\n",
       "    </tr>\n",
       "    <tr>\n",
       "      <th>3</th>\n",
       "      <td>Labor Force Participation Rate</td>\n",
       "      <td>NaN</td>\n",
       "      <td>41.8%</td>\n",
       "      <td>79.4%</td>\n",
       "      <td>49.4%</td>\n",
       "      <td>67.4%</td>\n",
       "      <td>74.7%</td>\n",
       "      <td>85.2%</td>\n",
       "    </tr>\n",
       "    <tr>\n",
       "      <th>4</th>\n",
       "      <td>Estimate</td>\n",
       "      <td>NaN</td>\n",
       "      <td>NaN</td>\n",
       "      <td>NaN</td>\n",
       "      <td>NaN</td>\n",
       "      <td>NaN</td>\n",
       "      <td>NaN</td>\n",
       "      <td>NaN</td>\n",
       "    </tr>\n",
       "  </tbody>\n",
       "</table>\n",
       "</div>"
      ],
      "text/plain": [
       "                            Label  POVERTY STATUS IN THE PAST 12 MONTHS  \\\n",
       "0                         Alabama                                   NaN   \n",
       "1                           Total                                   NaN   \n",
       "2                        Estimate                                   NaN   \n",
       "3  Labor Force Participation Rate                                   NaN   \n",
       "4                        Estimate                                   NaN   \n",
       "\n",
       "  Below poverty level At or above the poverty level  \\\n",
       "0                 NaN                           NaN   \n",
       "1             426,232                     2,403,734   \n",
       "2                 NaN                           NaN   \n",
       "3               41.8%                         79.4%   \n",
       "4                 NaN                           NaN   \n",
       "\n",
       "  Less than high school graduate High school graduate (includes equivalency)  \\\n",
       "0                            NaN                                         NaN   \n",
       "1                        291,364                                     762,320   \n",
       "2                            NaN                                         NaN   \n",
       "3                          49.4%                                       67.4%   \n",
       "4                            NaN                                         NaN   \n",
       "\n",
       "  Some college or associate's degree Bachelor's degree or higher  \n",
       "0                                NaN                         NaN  \n",
       "1                            780,194                     731,521  \n",
       "2                                NaN                         NaN  \n",
       "3                              74.7%                       85.2%  \n",
       "4                                NaN                         NaN  "
      ]
     },
     "execution_count": 90,
     "metadata": {},
     "output_type": "execute_result"
    }
   ],
   "source": [
    "#now do the same thing for the employment data\n",
    "emply = pd.read_excel(\"emply_status.xlsx\", sheet_name = \"Data\")\n",
    "emply.head()"
   ]
  },
  {
   "cell_type": "code",
   "execution_count": 95,
   "id": "90aa7b00",
   "metadata": {},
   "outputs": [],
   "source": [
    "condition = emply[\"Label\"] == \"Unemployment rate\"\n",
    "emply = emply[condition].reset_index(drop = True).drop(\n",
    "        [\n",
    "        \"POVERTY STATUS IN THE PAST 12 MONTHS\", \n",
    "        \"Label\"]\n",
    "        , axis = 1)"
   ]
  },
  {
   "cell_type": "code",
   "execution_count": 96,
   "id": "5ecc9032",
   "metadata": {},
   "outputs": [
    {
     "data": {
      "text/html": [
       "<div>\n",
       "<style scoped>\n",
       "    .dataframe tbody tr th:only-of-type {\n",
       "        vertical-align: middle;\n",
       "    }\n",
       "\n",
       "    .dataframe tbody tr th {\n",
       "        vertical-align: top;\n",
       "    }\n",
       "\n",
       "    .dataframe thead th {\n",
       "        text-align: right;\n",
       "    }\n",
       "</style>\n",
       "<table border=\"1\" class=\"dataframe\">\n",
       "  <thead>\n",
       "    <tr style=\"text-align: right;\">\n",
       "      <th></th>\n",
       "      <th>Below poverty level</th>\n",
       "      <th>At or above the poverty level</th>\n",
       "      <th>Less than high school graduate</th>\n",
       "      <th>High school graduate (includes equivalency)</th>\n",
       "      <th>Some college or associate's degree</th>\n",
       "      <th>Bachelor's degree or higher</th>\n",
       "    </tr>\n",
       "  </thead>\n",
       "  <tbody>\n",
       "    <tr>\n",
       "      <th>0</th>\n",
       "      <td>22.4%</td>\n",
       "      <td>3.4%</td>\n",
       "      <td>11.0%</td>\n",
       "      <td>6.0%</td>\n",
       "      <td>4.4%</td>\n",
       "      <td>1.9%</td>\n",
       "    </tr>\n",
       "    <tr>\n",
       "      <th>1</th>\n",
       "      <td>29.2%</td>\n",
       "      <td>5.0%</td>\n",
       "      <td>17.0%</td>\n",
       "      <td>9.1%</td>\n",
       "      <td>5.6%</td>\n",
       "      <td>3.0%</td>\n",
       "    </tr>\n",
       "    <tr>\n",
       "      <th>2</th>\n",
       "      <td>23.6%</td>\n",
       "      <td>4.0%</td>\n",
       "      <td>8.5%</td>\n",
       "      <td>6.5%</td>\n",
       "      <td>5.5%</td>\n",
       "      <td>2.9%</td>\n",
       "    </tr>\n",
       "    <tr>\n",
       "      <th>3</th>\n",
       "      <td>23.2%</td>\n",
       "      <td>3.6%</td>\n",
       "      <td>8.8%</td>\n",
       "      <td>6.2%</td>\n",
       "      <td>5.0%</td>\n",
       "      <td>2.0%</td>\n",
       "    </tr>\n",
       "    <tr>\n",
       "      <th>4</th>\n",
       "      <td>29.9%</td>\n",
       "      <td>6.4%</td>\n",
       "      <td>9.4%</td>\n",
       "      <td>9.3%</td>\n",
       "      <td>8.8%</td>\n",
       "      <td>5.1%</td>\n",
       "    </tr>\n",
       "  </tbody>\n",
       "</table>\n",
       "</div>"
      ],
      "text/plain": [
       "  Below poverty level At or above the poverty level  \\\n",
       "0               22.4%                          3.4%   \n",
       "1               29.2%                          5.0%   \n",
       "2               23.6%                          4.0%   \n",
       "3               23.2%                          3.6%   \n",
       "4               29.9%                          6.4%   \n",
       "\n",
       "  Less than high school graduate High school graduate (includes equivalency)  \\\n",
       "0                          11.0%                                        6.0%   \n",
       "1                          17.0%                                        9.1%   \n",
       "2                           8.5%                                        6.5%   \n",
       "3                           8.8%                                        6.2%   \n",
       "4                           9.4%                                        9.3%   \n",
       "\n",
       "  Some college or associate's degree Bachelor's degree or higher  \n",
       "0                               4.4%                        1.9%  \n",
       "1                               5.6%                        3.0%  \n",
       "2                               5.5%                        2.9%  \n",
       "3                               5.0%                        2.0%  \n",
       "4                               8.8%                        5.1%  "
      ]
     },
     "execution_count": 96,
     "metadata": {},
     "output_type": "execute_result"
    }
   ],
   "source": [
    "#since the data is already ordered by states, we can export it\n",
    "emply.head()"
   ]
  },
  {
   "cell_type": "code",
   "execution_count": 124,
   "id": "3743b1d6",
   "metadata": {},
   "outputs": [
    {
     "name": "stdout",
     "output_type": "stream",
     "text": [
      "<class 'pandas.core.frame.DataFrame'>\n",
      "RangeIndex: 52 entries, 0 to 51\n",
      "Data columns (total 6 columns):\n",
      " #   Column                                       Non-Null Count  Dtype  \n",
      "---  ------                                       --------------  -----  \n",
      " 0   Below poverty level                          52 non-null     float64\n",
      " 1   At or above the poverty level                52 non-null     float64\n",
      " 2   Less than high school graduate               52 non-null     float64\n",
      " 3   High school graduate (includes equivalency)  52 non-null     float64\n",
      " 4   Some college or associate's degree           52 non-null     float64\n",
      " 5   Bachelor's degree or higher                  52 non-null     float64\n",
      "dtypes: float64(6)\n",
      "memory usage: 2.6 KB\n"
     ]
    }
   ],
   "source": [
    "emply.info()"
   ]
  },
  {
   "cell_type": "code",
   "execution_count": 123,
   "id": "a366df10",
   "metadata": {},
   "outputs": [],
   "source": [
    "emply[\"Below poverty level\"] = emply[\"Below poverty level\"].str.strip(\"%\").astype(\"float\")/100\n",
    "emply[\"At or above the poverty level\"] = emply[\"At or above the poverty level\"].str.strip(\"%\").astype(\"float\")/100\n",
    "emply[\"Less than high school graduate\"] = emply[\"Less than high school graduate\"].str.strip(\"%\").astype(\"float\")/100\n",
    "emply[\"High school graduate (includes equivalency)\"] = emply[\"High school graduate (includes equivalency)\"].str.strip(\"%\").astype(\"float\")/100\n",
    "emply[\"Some college or associate's degree\"] = emply[\"Some college or associate's degree\"].str.strip(\"%\").astype(\"float\")/100\n",
    "emply[\"Bachelor's degree or higher\"] = emply[\"Bachelor's degree or higher\"].str.strip(\"%\").astype(\"float\")/100"
   ]
  },
  {
   "cell_type": "code",
   "execution_count": 125,
   "id": "604af124",
   "metadata": {},
   "outputs": [
    {
     "data": {
      "text/html": [
       "<div>\n",
       "<style scoped>\n",
       "    .dataframe tbody tr th:only-of-type {\n",
       "        vertical-align: middle;\n",
       "    }\n",
       "\n",
       "    .dataframe tbody tr th {\n",
       "        vertical-align: top;\n",
       "    }\n",
       "\n",
       "    .dataframe thead th {\n",
       "        text-align: right;\n",
       "    }\n",
       "</style>\n",
       "<table border=\"1\" class=\"dataframe\">\n",
       "  <thead>\n",
       "    <tr style=\"text-align: right;\">\n",
       "      <th></th>\n",
       "      <th>Below poverty level</th>\n",
       "      <th>At or above the poverty level</th>\n",
       "      <th>Less than high school graduate</th>\n",
       "      <th>High school graduate (includes equivalency)</th>\n",
       "      <th>Some college or associate's degree</th>\n",
       "      <th>Bachelor's degree or higher</th>\n",
       "    </tr>\n",
       "  </thead>\n",
       "  <tbody>\n",
       "    <tr>\n",
       "      <th>0</th>\n",
       "      <td>0.224</td>\n",
       "      <td>0.034</td>\n",
       "      <td>0.110</td>\n",
       "      <td>0.060</td>\n",
       "      <td>0.044</td>\n",
       "      <td>0.019</td>\n",
       "    </tr>\n",
       "    <tr>\n",
       "      <th>1</th>\n",
       "      <td>0.292</td>\n",
       "      <td>0.050</td>\n",
       "      <td>0.170</td>\n",
       "      <td>0.091</td>\n",
       "      <td>0.056</td>\n",
       "      <td>0.030</td>\n",
       "    </tr>\n",
       "    <tr>\n",
       "      <th>2</th>\n",
       "      <td>0.236</td>\n",
       "      <td>0.040</td>\n",
       "      <td>0.085</td>\n",
       "      <td>0.065</td>\n",
       "      <td>0.055</td>\n",
       "      <td>0.029</td>\n",
       "    </tr>\n",
       "    <tr>\n",
       "      <th>3</th>\n",
       "      <td>0.232</td>\n",
       "      <td>0.036</td>\n",
       "      <td>0.088</td>\n",
       "      <td>0.062</td>\n",
       "      <td>0.050</td>\n",
       "      <td>0.020</td>\n",
       "    </tr>\n",
       "    <tr>\n",
       "      <th>4</th>\n",
       "      <td>0.299</td>\n",
       "      <td>0.064</td>\n",
       "      <td>0.094</td>\n",
       "      <td>0.093</td>\n",
       "      <td>0.088</td>\n",
       "      <td>0.051</td>\n",
       "    </tr>\n",
       "  </tbody>\n",
       "</table>\n",
       "</div>"
      ],
      "text/plain": [
       "   Below poverty level  At or above the poverty level  \\\n",
       "0                0.224                          0.034   \n",
       "1                0.292                          0.050   \n",
       "2                0.236                          0.040   \n",
       "3                0.232                          0.036   \n",
       "4                0.299                          0.064   \n",
       "\n",
       "   Less than high school graduate  \\\n",
       "0                           0.110   \n",
       "1                           0.170   \n",
       "2                           0.085   \n",
       "3                           0.088   \n",
       "4                           0.094   \n",
       "\n",
       "   High school graduate (includes equivalency)  \\\n",
       "0                                        0.060   \n",
       "1                                        0.091   \n",
       "2                                        0.065   \n",
       "3                                        0.062   \n",
       "4                                        0.093   \n",
       "\n",
       "   Some college or associate's degree  Bachelor's degree or higher  \n",
       "0                               0.044                        0.019  \n",
       "1                               0.056                        0.030  \n",
       "2                               0.055                        0.029  \n",
       "3                               0.050                        0.020  \n",
       "4                               0.088                        0.051  "
      ]
     },
     "execution_count": 125,
     "metadata": {},
     "output_type": "execute_result"
    }
   ],
   "source": [
    "emply.head()"
   ]
  },
  {
   "cell_type": "code",
   "execution_count": 126,
   "id": "3c200ff4",
   "metadata": {},
   "outputs": [],
   "source": [
    "emply.to_excel(\"unemployment.xlsx\")"
   ]
  },
  {
   "cell_type": "code",
   "execution_count": null,
   "id": "5d2f6dff",
   "metadata": {},
   "outputs": [],
   "source": []
  },
  {
   "cell_type": "code",
   "execution_count": null,
   "id": "ee3ee5e8",
   "metadata": {},
   "outputs": [],
   "source": []
  },
  {
   "cell_type": "code",
   "execution_count": null,
   "id": "967d1708",
   "metadata": {},
   "outputs": [],
   "source": []
  }
 ],
 "metadata": {
  "kernelspec": {
   "display_name": "Python 3 (ipykernel)",
   "language": "python",
   "name": "python3"
  },
  "language_info": {
   "codemirror_mode": {
    "name": "ipython",
    "version": 3
   },
   "file_extension": ".py",
   "mimetype": "text/x-python",
   "name": "python",
   "nbconvert_exporter": "python",
   "pygments_lexer": "ipython3",
   "version": "3.9.13"
  }
 },
 "nbformat": 4,
 "nbformat_minor": 5
}
